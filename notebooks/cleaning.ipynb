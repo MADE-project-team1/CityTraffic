{
 "cells": [
  {
   "cell_type": "code",
   "execution_count": 1,
   "metadata": {},
   "outputs": [],
   "source": [
    "import warnings\n",
    "warnings.simplefilter(action='ignore', category=FutureWarning)"
   ]
  },
  {
   "cell_type": "code",
   "execution_count": 2,
   "metadata": {},
   "outputs": [],
   "source": [
    "import pandas as pd\n",
    "import numpy as np\n",
    "import matplotlib.pyplot as plt\n",
    "from matplotlib.dates import DateFormatter, MinuteLocator, SecondLocator\n",
    "import numpy as np\n",
    "import datetime\n",
    "import os\n",
    "from omegaconf import OmegaConf, DictConfig, ListConfig\n",
    "\n",
    "import geopandas as gpd\n",
    "from shapely.geometry import Point\n",
    "\n",
    "from sklearn.cluster import DBSCAN\n",
    "from sklearn.cluster import OPTICS\n",
    "\n",
    "from sklearn.metrics.pairwise import haversine_distances\n",
    "\n",
    "from geopy.distance import great_circle\n",
    "\n",
    "from shapely.geometry import MultiPoint\n",
    "\n",
    "from tqdm import tqdm\n",
    "\n",
    "\n",
    "from hydra import initialize, compose\n",
    "from omegaconf import OmegaConf\n",
    "\n",
    "with initialize(version_base=None, config_path=\"..\\\\scripts\\\\config\\\\\"):\n",
    "    cfg = compose(config_name='config.yaml')"
   ]
  },
  {
   "cell_type": "code",
   "execution_count": 3,
   "metadata": {},
   "outputs": [],
   "source": [
    "def get_slot(x, slot_len):\n",
    "    hm = pd.to_datetime(x, unit='s').dt.strftime('%H:%M').str.split(':')\n",
    "    return hm.apply(lambda x: (60 * int(x[0]) + int(x[1])) // slot_len)\n",
    "\n",
    "\n",
    "launch_time = datetime.datetime.now().strftime(\"%Y-%m-%d_%H-%M-%S\")\n",
    "rng = np.random.default_rng(seed=cfg.seed)\n",
    "\n",
    "if isinstance(cfg.id_points_range, ListConfig):\n",
    "    bounds = OmegaConf.to_container(cfg.id_points_range)\n",
    "else:\n",
    "    if cfg.id_points_range >= 0:\n",
    "        bounds = [0, cfg.id_points_range]\n",
    "    else:\n",
    "        bounds = [0, np.inf]\n",
    "\n",
    "locs = pd.read_csv(rf\"C:\\Users\\kirin\\jupyter\\CityTraffic\\{cfg.locs_path}\")\n",
    "\n",
    "if cfg.n_ids == -1:\n",
    "    ID_LIST = pd.unique(locs['id'])\n",
    "elif isinstance(cfg.n_ids, ListConfig):\n",
    "    ID_LIST = OmegaConf.to_container(cfg.n_ids)\n",
    "else:\n",
    "    ID_LIST = rng.choice(pd.unique(locs['id']), size=cfg.n_ids)\n"
   ]
  },
  {
   "cell_type": "code",
   "execution_count": 4,
   "metadata": {},
   "outputs": [
    {
     "name": "stderr",
     "output_type": "stream",
     "text": [
      "  1%|          | 1280/151891 [02:14<3:33:25, 11.76it/s]"
     ]
    }
   ],
   "source": [
    "new_id_df = pd.DataFrame(columns=locs.columns)\n",
    "for cur_id in tqdm(ID_LIST):\n",
    "        cur_id_df = locs.query('id == @cur_id').copy()\n",
    "        if cur_id_df['cnt'].sum() > bounds[1] or cur_id_df['cnt'].sum() < bounds[0]:\n",
    "            continue\n",
    "        cur_id_df['length'] = cur_id_df['last_ts'] - cur_id_df['first_ts']\n",
    "        #     print(cur_id_df['length'].sum())\n",
    "        days = cur_id_df.groupby('log_date')['length'].sum()\n",
    "        days = days[days >= cfg.min_time_day_thresh]\n",
    "        if days.shape[0] >= cfg.min_days_thresh:\n",
    "            filtered_data = cur_id_df[cur_id_df['log_date'].isin(days.index)]\n",
    "            new_id_df = pd.concat([new_id_df, filtered_data])"
   ]
  },
  {
   "cell_type": "code",
   "execution_count": null,
   "metadata": {},
   "outputs": [],
   "source": [
    "new_id_df.shape"
   ]
  }
 ],
 "metadata": {
  "kernelspec": {
   "display_name": "base",
   "language": "python",
   "name": "python3"
  },
  "language_info": {
   "codemirror_mode": {
    "name": "ipython",
    "version": 3
   },
   "file_extension": ".py",
   "mimetype": "text/x-python",
   "name": "python",
   "nbconvert_exporter": "python",
   "pygments_lexer": "ipython3",
   "version": "3.9.13"
  },
  "orig_nbformat": 4
 },
 "nbformat": 4,
 "nbformat_minor": 2
}
